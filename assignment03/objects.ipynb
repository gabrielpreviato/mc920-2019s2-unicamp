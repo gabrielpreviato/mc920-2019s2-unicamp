{
 "cells": [
  {
   "cell_type": "code",
   "execution_count": 1,
   "metadata": {},
   "outputs": [],
   "source": [
    "import os\n",
    "import pathlib\n",
    "import numpy as np\n",
    "import imageio\n",
    "import glob\n",
    "import matplotlib.pyplot as plt\n",
    "import IPython.display\n",
    "import PIL.Image\n",
    "import imageio\n",
    "import cv2"
   ]
  },
  {
   "cell_type": "markdown",
   "metadata": {},
   "source": [
    "## Input Images Path"
   ]
  },
  {
   "cell_type": "code",
   "execution_count": 2,
   "metadata": {},
   "outputs": [],
   "source": [
    "# Relative paths to the notebook\n",
    "images_path = glob.glob(\"images/*.png\")\n",
    "\n",
    "output_path = 'outputs/'\n",
    "# If output folder does not exist, create it\n",
    "p = pathlib.Path(output_path)\n",
    "if not p.is_dir():\n",
    "    p.mkdir()\n",
    "\n",
    "# Execute all dithering functions to all images\n",
    "# NOTE: THE ENTIRE ACQUISITION TAKES ABOUT 5 MINUTES\n",
    "execute_acquisitions = True"
   ]
  },
  {
   "cell_type": "code",
   "execution_count": 3,
   "metadata": {},
   "outputs": [
    {
     "data": {
      "text/plain": [
       "['images/objetos1.png', 'images/objetos3.png', 'images/objetos2.png']"
      ]
     },
     "execution_count": 3,
     "metadata": {},
     "output_type": "execute_result"
    }
   ],
   "source": [
    "images_path"
   ]
  },
  {
   "cell_type": "code",
   "execution_count": 4,
   "metadata": {},
   "outputs": [],
   "source": [
    "images = {}\n",
    "for img in images_path:\n",
    "     images[os.path.split(img)[1]] = cv2.imread(img,-1)"
   ]
  },
  {
   "cell_type": "markdown",
   "metadata": {},
   "source": [
    "## Color Transformation"
   ]
  },
  {
   "cell_type": "markdown",
   "metadata": {},
   "source": [
    "### Gray"
   ]
  },
  {
   "cell_type": "code",
   "execution_count": 5,
   "metadata": {},
   "outputs": [],
   "source": [
    "gray_images = {}\n",
    "\n",
    "for key, img in images.items():\n",
    "    gray_images[key] = cv2.cvtColor(img, cv2.COLOR_BGR2GRAY)"
   ]
  },
  {
   "cell_type": "code",
   "execution_count": 6,
   "metadata": {},
   "outputs": [
    {
     "data": {
      "image/png": "[encoded data removed]",
      "text/plain": [
       "<PIL.Image.Image image mode=L size=238x238 at 0x7F814FB85F90>"
      ]
     },
     "execution_count": 6,
     "metadata": {},
     "output_type": "execute_result"
    }
   ],
   "source": [
    "PIL.Image.fromarray(gray_images['objetos3.png'])"
   ]
  },
  {
   "cell_type": "markdown",
   "metadata": {},
   "source": [
    "### Mono"
   ]
  },
  {
   "cell_type": "code",
   "execution_count": 7,
   "metadata": {},
   "outputs": [],
   "source": [
    "mono_images = {}\n",
    "\n",
    "for key, img in gray_images.items():\n",
    "    mono_images[key] = cv2.threshold(img, 254, 255, cv2.THRESH_BINARY)[1]"
   ]
  },
  {
   "cell_type": "code",
   "execution_count": 8,
   "metadata": {
    "scrolled": true
   },
   "outputs": [
    {
     "data": {
      "image/png": "[encoded data removed]",
      "text/plain": [
       "<PIL.Image.Image image mode=L size=563x327 at 0x7F814C2F8E10>"
      ]
     },
     "execution_count": 8,
     "metadata": {},
     "output_type": "execute_result"
    }
   ],
   "source": [
    "PIL.Image.fromarray(mono_images['objetos1.png'])"
   ]
  },
  {
   "cell_type": "markdown",
   "metadata": {},
   "source": [
    "## Objects Contours"
   ]
  },
  {
   "cell_type": "code",
   "execution_count": 9,
   "metadata": {},
   "outputs": [],
   "source": [
    "# In OpenCV, objects are white and the background is black, so we need to invert the image\n",
    "# before finding the contours\n",
    "contours = {}\n",
    "\n",
    "for key, img in mono_images.items():\n",
    "    # 255 - img is the inverse of img\n",
    "    contours[key], _ = cv2.findContours(255 - img, cv2.RETR_TREE, cv2.CHAIN_APPROX_SIMPLE)"
   ]
  },
  {
   "cell_type": "code",
   "execution_count": 17,
   "metadata": {},
   "outputs": [],
   "source": [
    "images_contours = {}\n",
    "\n",
    "for key, img in mono_images.items():\n",
    "    images_contours[key] = np.zeros_like(img) + 255\n",
    "    cv2.drawContours(images_contours[key], contours[key], -1, (0), 2)\n",
    "    cv2.imwrite(output_path + key[:-4] + \"-contour.png\", images_contours[key])"
   ]
  },
  {
   "cell_type": "code",
   "execution_count": 11,
   "metadata": {
    "scrolled": true
   },
   "outputs": [
    {
     "data": {
      "image/png": "[encoded data removed]",
      "text/plain": [
       "<PIL.Image.Image image mode=L size=238x238 at 0x7F814C2FE950>"
      ]
     },
     "execution_count": 11,
     "metadata": {},
     "output_type": "execute_result"
    }
   ],
   "source": [
    "PIL.Image.fromarray(images_contours['objetos3.png'])"
   ]
  },
  {
   "cell_type": "markdown",
   "metadata": {},
   "source": [
    "## Objects Properties and Area Histogram"
   ]
  },
  {
   "cell_type": "code",
   "execution_count": 25,
   "metadata": {},
   "outputs": [
    {
     "data": {
      "image/png": "[encoded data removed]",
      "text/plain": [
       "<Figure size 432x288 with 1 Axes>"
      ]
     },
     "metadata": {
      "needs_background": "light"
     },
     "output_type": "display_data"
    },
    {
     "data": {
      "image/png": "[encoded data removed]",
      "text/plain": [
       "<Figure size 432x288 with 1 Axes>"
      ]
     },
     "metadata": {
      "needs_background": "light"
     },
     "output_type": "display_data"
    },
    {
     "data": {
      "image/png": "[encoded data removed]",
      "text/plain": [
       "<Figure size 432x288 with 1 Axes>"
      ]
     },
     "metadata": {
      "needs_background": "light"
     },
     "output_type": "display_data"
    }
   ],
   "source": [
    "area_histogram = {}\n",
    "\n",
    "labeled_images = {}\n",
    "\n",
    "for key, contour_set in contours.items():\n",
    "    # Histogram Info\n",
    "    small_area = 0\n",
    "    medium_area = 0\n",
    "    big_area = 0\n",
    "\n",
    "    # Objects properties\n",
    "    region = 0\n",
    "    labeled_images[key] = np.clip(np.copy(images[key]) * 1.5, 0, 255).astype(np.uint8)\n",
    "    \n",
    "    labeled_images[key][labeled_images[key][:, :] == (255, 255, 255)] = 205\n",
    "    \n",
    "    with open(output_path + key[:-4] + \"-obj.txt\", \"w\") as f:\n",
    "        f.write(\"numero de regioes: \" + str(len(contour_set)) + \"\\n\\n\")\n",
    "        \n",
    "        for obj in contour_set:\n",
    "            # Area\n",
    "            area = cv2.contourArea(obj)\n",
    "            \n",
    "            if area < 1500:\n",
    "                small_area += 1\n",
    "            elif area < 3000:\n",
    "                medium_area += 1\n",
    "            else:\n",
    "                big_area += 1\n",
    "\n",
    "            # Perimeter\n",
    "            perimeter = cv2.arcLength(obj, True)\n",
    "            \n",
    "            # Eccentricity\n",
    "            if len(obj) > 4:\n",
    "                _, (minor_axis, major_axis), _ = cv2.fitEllipse(obj)\n",
    "                eccentricity = major_axis/minor_axis\n",
    "            else:\n",
    "                eccentricity = np.sqrt(2)\n",
    "            \n",
    "            # Solidity\n",
    "            hull = cv2.convexHull(obj)\n",
    "            hull_area = cv2.contourArea(hull)\n",
    "            try:\n",
    "                solidity = float(area)/float(hull_area)\n",
    "            except ZeroDivisionError:\n",
    "                continue\n",
    "            \n",
    "            # Centroid\n",
    "            moment = cv2.moments(obj)\n",
    "            cx = int(moment['m10']/moment['m00'])\n",
    "            cy = int(moment['m01']/moment['m00'])\n",
    "            \n",
    "            color = 255 - labeled_images[key][cy, cx, :]\n",
    "            color = [int(x) for x in color]\n",
    "            \n",
    "            cv2.putText(labeled_images[key],\n",
    "                        str(region), \n",
    "                        (cx - 6, cy + 4), \n",
    "                        cv2.FONT_HERSHEY_SIMPLEX, \n",
    "                        0.45,\n",
    "                        color,\n",
    "                        1)\n",
    "            \n",
    "            cv2.imwrite(output_path + key[:-4] + \"-regions.png\", labeled_images[key])\n",
    "            \n",
    "            f.write(\"região \" + \"{:d}\".format(region) + \": área: \" + \"{:.4f}\".format(area) + \" perímetro: \" +\n",
    "                    \"{:.4f}\".format(perimeter) + \" excentricidade: \" + \"{:.4f}\".format(eccentricity) +\n",
    "                    \" solidez: \" + \"{:.4f}\".format(solidity) + \"\\n\")\n",
    "            \n",
    "            region += 1\n",
    "        \n",
    "        # Write histogram info\n",
    "        f.write(\"\\nnumero de regioes pequenas: \" + str(small_area) + \"\\n\")\n",
    "        f.write(\"numero de regioes medias: \" + str(medium_area) + \"\\n\")\n",
    "        f.write(\"numero de regioes grandes: \" + str(big_area) + \"\\n\")\n",
    "        \n",
    "        # Create histograms\n",
    "        fig, ax = plt.subplots()\n",
    "        plt.bar((750, 2250, 3750), (small_area, medium_area, big_area), width=1500, color=[1, 0, 0], edgecolor=[0.5, 0, 0])\n",
    "        plt.ylabel('Numero de Objetos')\n",
    "        plt.xlabel('Area')\n",
    "        plt.title(key)\n",
    "        plt.savefig(output_path + key[:-4] + \"-hist.png\")\n",
    "        plt.show()"
   ]
  }
 ],
 "metadata": {
  "kernelspec": {
   "display_name": "Python 3",
   "language": "python",
   "name": "python3"
  },
  "language_info": {
   "codemirror_mode": {
    "name": "ipython",
    "version": 3
   },
   "file_extension": ".py",
   "mimetype": "text/x-python",
   "name": "python",
   "nbconvert_exporter": "python",
   "pygments_lexer": "ipython3",
   "version": "3.7.4"
  }
 },
 "nbformat": 4,
 "nbformat_minor": 2
}
