{
 "cells": [
  {
   "cell_type": "code",
   "execution_count": null,
   "metadata": {},
   "outputs": [],
   "source": [
    "import os\n",
    "import pathlib\n",
    "import numpy as np\n",
    "import imageio\n",
    "import glob\n",
    "import matplotlib.pyplot as plt\n",
    "import IPython.display\n",
    "import PIL.Image\n",
    "import imageio\n",
    "import cv2"
   ]
  },
  {
   "cell_type": "markdown",
   "metadata": {},
   "source": [
    "## Input Images Path"
   ]
  },
  {
   "cell_type": "code",
   "execution_count": null,
   "metadata": {},
   "outputs": [],
   "source": [
    "# Relative paths to the notebook\n",
    "images_path = []\n",
    "images_path += glob.glob(\"images/*.png\")\n",
    "images_path += glob.glob(\"images/*.jpeg\")\n",
    "images_path += glob.glob(\"images/*.jpg\")\n",
    "\n",
    "output_path = 'outputs/'\n",
    "# If output folder does not exist, create it\n",
    "p = pathlib.Path(output_path)\n",
    "if not p.is_dir():\n",
    "    p.mkdir()\n",
    "\n",
    "# Execute all dithering functions to all images\n",
    "# NOTE: THE ENTIRE ACQUISITION TAKES ABOUT 5 MINUTES\n",
    "execute_acquisitions = True"
   ]
  },
  {
   "cell_type": "code",
   "execution_count": null,
   "metadata": {},
   "outputs": [],
   "source": [
    "images_path"
   ]
  },
  {
   "cell_type": "code",
   "execution_count": null,
   "metadata": {},
   "outputs": [],
   "source": [
    "images = {}\n",
    "for img in images_path:\n",
    "     images[os.path.split(img)[1]] = cv2.cvtColor(cv2.imread(img,-1), cv2.COLOR_BGR2RGB)"
   ]
  },
  {
   "cell_type": "markdown",
   "metadata": {},
   "source": [
    "## Encode and Decode functions"
   ]
  },
  {
   "cell_type": "code",
   "execution_count": null,
   "metadata": {},
   "outputs": [],
   "source": [
    "def char_to_list(value):\n",
    "    return [value & (1 << i) for i in range(8)]"
   ]
  },
  {
   "cell_type": "code",
   "execution_count": null,
   "metadata": {},
   "outputs": [],
   "source": [
    "def message_to_list(msg, channel_n=0):\n",
    "    ascii_msg = msg.encode('ascii', 'ignore')\n",
    "    \n",
    "    ascii_list = np.array([char_to_list(j) for j in [i for i in ascii_msg]], dtype=np.uint8)\n",
    "    ret = np.zeros(ascii_list.shape, dtype=np.uint8)\n",
    "    \n",
    "    set_bit = 1 << channel_n\n",
    "    clear_bit = 255 - set_bit\n",
    "    \n",
    "    ret[ascii_list != 0] = set_bit\n",
    "    ret[ascii_list == 0] = clear_bit\n",
    "    \n",
    "    return ret.reshape(-1)"
   ]
  },
  {
   "cell_type": "code",
   "execution_count": null,
   "metadata": {},
   "outputs": [],
   "source": [
    "message_to_list('Abacate')"
   ]
  },
  {
   "cell_type": "code",
   "execution_count": null,
   "metadata": {},
   "outputs": [],
   "source": [
    "def steganohraphy_encode(msg, img, end_of_message_original, channel_n=0):\n",
    "    end_of_message = np.copy(end_of_message_original)\n",
    "    \n",
    "    set_bit = 1 << channel_n\n",
    "    clear_bit = 255 - set_bit\n",
    "    \n",
    "    end_of_message[end_of_message != 0] = set_bit\n",
    "    end_of_message[end_of_message == 0] = clear_bit\n",
    "    \n",
    "    msg_bit_mask = np.concatenate((message_to_list(msg, channel_n), end_of_message))\n",
    "    \n",
    "    height = img.shape[0]\n",
    "    width = img.shape[1]\n",
    "    ret_img = np.copy(img).reshape(height * width * 3)\n",
    "    \n",
    "    ret_img[:len(msg_bit_mask)][msg_bit_mask == clear_bit] &= clear_bit\n",
    "    ret_img[:len(msg_bit_mask)][msg_bit_mask == set_bit] |= set_bit\n",
    "    \n",
    "    # End of message signal []\n",
    "    \n",
    "    return ret_img.reshape(height, width, 3)"
   ]
  },
  {
   "cell_type": "code",
   "execution_count": null,
   "metadata": {},
   "outputs": [],
   "source": [
    "def steganohraphy_decode(img, end_of_message, channel_n=0):\n",
    "    height = img.shape[0]\n",
    "    width = img.shape[1]\n",
    "    ret_img = np.copy(img).reshape(height * width * 3)\n",
    "    \n",
    "    check_bit = 1 << channel_n\n",
    "    \n",
    "    # End of message signal []\n",
    "    clipped_ret_img = np.clip(ret_img & check_bit, 0, 1)\n",
    "    bool_indices = np.all(rolling_window(clipped_ret_img, len(end_of_message)) == end_of_message, axis=1)\n",
    "    first_occurance_end_msg = np.mgrid[0:len(bool_indices)][bool_indices][0]\n",
    "    \n",
    "    msg = clipped_ret_img[:first_occurance_end_msg]\n",
    "    return bits_list_to_str(msg)"
   ]
  },
  {
   "cell_type": "code",
   "execution_count": null,
   "metadata": {},
   "outputs": [],
   "source": [
    "def bits_list_to_str(bits):\n",
    "    str_bits = [str(i) for i in bits]\n",
    "    joined_str = [''.join(str_bits[8*i:8*i+8])[::-1] for i in range(len(str_bits) // 8)]\n",
    "    \n",
    "    char_str = [chr(int(i, 2)) for i in joined_str]\n",
    "    \n",
    "    return ''.join(char_str)"
   ]
  },
  {
   "cell_type": "code",
   "execution_count": null,
   "metadata": {},
   "outputs": [],
   "source": [
    "def rolling_window(a, size):\n",
    "    shape = a.shape[:-1] + (a.shape[-1] - size + 1, size)\n",
    "    strides = a.strides + ( a. strides[-1],)\n",
    "    return np.lib.stride_tricks.as_strided(a, shape=shape, strides=strides)"
   ]
  },
  {
   "cell_type": "code",
   "execution_count": null,
   "metadata": {},
   "outputs": [],
   "source": [
    "end_of_message = np.array([0, 0, 0, 0, 0, 0, 1, 1, 0, 0, 0, 0, 0, 1, 0, 0, 0, 0, 0, 0, 0, 0, 0, 0, 0, 0, 0, 0, 0, 1, 0, 0, 0, 0, 0, 0, 0, 0, 1, 1], dtype=np.uint8)"
   ]
  },
  {
   "cell_type": "markdown",
   "metadata": {},
   "source": [
    "## Message"
   ]
  },
  {
   "cell_type": "code",
   "execution_count": null,
   "metadata": {},
   "outputs": [],
   "source": [
    "with open('pride-and-prejudice.txt', 'r') as file:\n",
    "    message = file.read()"
   ]
  },
  {
   "cell_type": "code",
   "execution_count": null,
   "metadata": {},
   "outputs": [],
   "source": [
    "len(message)"
   ]
  },
  {
   "cell_type": "code",
   "execution_count": null,
   "metadata": {},
   "outputs": [],
   "source": [
    "image_filename = '2k-planet.jpg'\n",
    "img = images[image_filename]"
   ]
  },
  {
   "cell_type": "code",
   "execution_count": null,
   "metadata": {},
   "outputs": [],
   "source": [
    "channel_n = 6"
   ]
  },
  {
   "cell_type": "code",
   "execution_count": null,
   "metadata": {
    "scrolled": true
   },
   "outputs": [],
   "source": [
    "# Encode text in the lesser significant bits\n",
    "encoded_img_0 = steganohraphy_encode(message, img, end_of_message, 0)\n",
    "encoded_img_1 = steganohraphy_encode(message, img, end_of_message, 1)\n",
    "encoded_img_2 = steganohraphy_encode(message, img, end_of_message, 2)\n",
    "\n",
    "# Encode text in a more significant bit\n",
    "encoded_img_6 = steganohraphy_encode(message, img, end_of_message, 6)\n",
    "\n",
    "# Save images\n",
    "PIL.Image.fromarray(encoded_img_0).save(output_path + image_filename[:-4] + 'encoded0.png')\n",
    "PIL.Image.fromarray(encoded_img_1).save(output_path + image_filename[:-4] + 'encoded1.png')\n",
    "PIL.Image.fromarray(encoded_img_2).save(output_path + image_filename[:-4] + 'encoded2.png')\n",
    "PIL.Image.fromarray(encoded_img_6).save(output_path + image_filename[:-4] + 'encoded6.png')"
   ]
  },
  {
   "cell_type": "code",
   "execution_count": null,
   "metadata": {},
   "outputs": [],
   "source": [
    "# Save bit plane images\n",
    "for rgb_channel in range(3):\n",
    "    encoded_0plane = (encoded_img_0[:, :, rgb_channel] & (1 << 0)) * 255\n",
    "    PIL.Image.fromarray(encoded_0plane).save(output_path + image_filename[:-4] + 'encoded_plane0_ch'\n",
    "                                            + str(rgb_channel) + '.png')\n",
    "    \n",
    "    org_0plane = (img[:, :, rgb_channel] & (1 << 0)) * 255\n",
    "    PIL.Image.fromarray(org_0plane).save(output_path + image_filename[:-4] + 'orig_plane0_ch'\n",
    "                                            + str(rgb_channel) + '.png')\n",
    "    \n",
    "    encoded_1plane = (encoded_img_1[:, :, rgb_channel] & (1 << 1)) * 255\n",
    "    PIL.Image.fromarray(encoded_1plane).save(output_path + image_filename[:-4] + 'encoded_plane1_ch'\n",
    "                                            + str(rgb_channel) + '.png')\n",
    "    \n",
    "    org_1plane = (img[:, :, rgb_channel] & (1 << 1)) * 255\n",
    "    PIL.Image.fromarray(org_1plane).save(output_path + image_filename[:-4] + 'orig_plane1_ch'\n",
    "                                            + str(rgb_channel) + '.png')\n",
    "    \n",
    "    encoded_2plane = (encoded_img_2[:, :, rgb_channel] & (1 << 2)) * 255\n",
    "    PIL.Image.fromarray(encoded_2plane).save(output_path + image_filename[:-4] + 'encoded_plane2_ch'\n",
    "                                            + str(rgb_channel) + '.png')\n",
    "    \n",
    "    org_2plane = (img[:, :, rgb_channel] & (1 << 2)) * 255\n",
    "    PIL.Image.fromarray(org_2plane).save(output_path + image_filename[:-4] + 'orig_plane2_ch'\n",
    "                                            + str(rgb_channel) + '.png')\n",
    "    \n",
    "    encoded_6plane = (encoded_img_6[:, :, rgb_channel] & (1 << 6)) * 255\n",
    "    PIL.Image.fromarray(encoded_6plane).save(output_path + image_filename[:-4] + 'encoded_plane6_ch'\n",
    "                                            + str(rgb_channel) + '.png')\n",
    "    \n",
    "    org_6plane = (img[:, :, rgb_channel] & (1 << 6)) * 255\n",
    "    PIL.Image.fromarray(org_6plane).save(output_path + image_filename[:-4] + 'orig_plane6_ch'\n",
    "                                            + str(rgb_channel) + '.png')"
   ]
  },
  {
   "cell_type": "code",
   "execution_count": null,
   "metadata": {},
   "outputs": [],
   "source": [
    "decoded_msg = steganohraphy_decode(encoded_img_0, end_of_message, 0)"
   ]
  },
  {
   "cell_type": "code",
   "execution_count": null,
   "metadata": {},
   "outputs": [],
   "source": [
    "decoded_msg"
   ]
  }
 ],
 "metadata": {
  "kernelspec": {
   "display_name": "Python 3",
   "language": "python",
   "name": "python3"
  },
  "language_info": {
   "codemirror_mode": {
    "name": "ipython",
    "version": 3
   },
   "file_extension": ".py",
   "mimetype": "text/x-python",
   "name": "python",
   "nbconvert_exporter": "python",
   "pygments_lexer": "ipython3",
   "version": "3.7.4"
  }
 },
 "nbformat": 4,
 "nbformat_minor": 2
}
