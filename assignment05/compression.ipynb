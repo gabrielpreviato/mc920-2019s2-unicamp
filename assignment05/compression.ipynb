{
 "cells": [
  {
   "cell_type": "code",
   "execution_count": 1,
   "metadata": {},
   "outputs": [],
   "source": [
    "import os\n",
    "import pathlib\n",
    "import numpy as np\n",
    "import imageio\n",
    "import glob\n",
    "import matplotlib.pyplot as plt\n",
    "import IPython.display\n",
    "import PIL.Image\n",
    "import imageio\n",
    "import cv2"
   ]
  },
  {
   "cell_type": "markdown",
   "metadata": {},
   "source": [
    "## Input Images Path"
   ]
  },
  {
   "cell_type": "code",
   "execution_count": 2,
   "metadata": {},
   "outputs": [],
   "source": [
    "# Relative paths to the notebook\n",
    "images_path = []\n",
    "images_path += glob.glob(\"images/*.png\")\n",
    "\n",
    "output_path = 'outputs/'\n",
    "# If output folder does not exist, create it\n",
    "p = pathlib.Path(output_path)\n",
    "if not p.is_dir():\n",
    "    p.mkdir()\n",
    "\n",
    "# Execute all dithering functions to all images\n",
    "# NOTE: THE ENTIRE ACQUISITION TAKES ABOUT 5 MINUTES\n",
    "execute_acquisitions = True"
   ]
  },
  {
   "cell_type": "code",
   "execution_count": 3,
   "metadata": {},
   "outputs": [
    {
     "data": {
      "text/plain": [
       "['images/baboon.png',\n",
       " 'images/monalisa.png',\n",
       " 'images/watch.png',\n",
       " 'images/peppers.png']"
      ]
     },
     "execution_count": 3,
     "metadata": {},
     "output_type": "execute_result"
    }
   ],
   "source": [
    "images_path"
   ]
  },
  {
   "cell_type": "code",
   "execution_count": 4,
   "metadata": {},
   "outputs": [],
   "source": [
    "images = {}\n",
    "for img in images_path:\n",
    "     images[os.path.split(img)[1]] = cv2.cvtColor(cv2.imread(img,-1), cv2.COLOR_BGR2RGB)"
   ]
  },
  {
   "cell_type": "markdown",
   "metadata": {},
   "source": [
    "## SVD"
   ]
  },
  {
   "cell_type": "code",
   "execution_count": 5,
   "metadata": {},
   "outputs": [],
   "source": [
    "def svd(img, k):\n",
    "    svd = [np.linalg.svd(img[:, :, i]) for i in range(img.shape[2])]\n",
    "    \n",
    "    k = min(k, img.shape[0], img.shape[1])\n",
    "    \n",
    "    result_red = np.clip(np.dot(svd[0][0][:, 0:k] * svd[0][1][0:k], svd[0][2][0:k, :]), 0, 255)\n",
    "    result_green = np.clip(np.dot(svd[1][0][:, 0:k] * svd[1][1][0:k], svd[1][2][0:k, :]), 0, 255)\n",
    "    result_blue = np.clip(np.dot(svd[2][0][:, 0:k] * svd[2][1][0:k], svd[2][2][0:k, :]), 0, 255)\n",
    "    \n",
    "    result = np.zeros(list(result_red.shape) + [3], np.uint8)\n",
    "\n",
    "    result[:, :, 0] = result_red\n",
    "    result[:, :, 1] = result_green\n",
    "    result[:, :, 2] = result_blue\n",
    "    \n",
    "    return result"
   ]
  },
  {
   "cell_type": "code",
   "execution_count": 6,
   "metadata": {},
   "outputs": [],
   "source": [
    "def rmse(original, compressed):\n",
    "    return np.sqrt(np.mean((original - compressed)**2))"
   ]
  },
  {
   "cell_type": "markdown",
   "metadata": {},
   "source": [
    "## Execution"
   ]
  },
  {
   "cell_type": "code",
   "execution_count": 7,
   "metadata": {},
   "outputs": [],
   "source": [
    "k_list = [1, 2, 4, 8, 16, 32, 64, 128]\n",
    "\n",
    "result = {}\n",
    "\n",
    "for key, img in images.items():\n",
    "    imageio.imwrite(output_path + 'original_' + key, img)\n",
    "    for k in k_list:\n",
    "        result[str(k) + '_' + key] = svd(img, k)\n",
    "        imageio.imwrite(output_path + str(k) + '_' + key, result[str(k) + '_' + key])"
   ]
  },
  {
   "cell_type": "markdown",
   "metadata": {},
   "source": [
    "## Compression rate"
   ]
  },
  {
   "cell_type": "code",
   "execution_count": 8,
   "metadata": {},
   "outputs": [
    {
     "name": "stdout",
     "output_type": "stream",
     "text": [
      "baboon.png 1 0.34431043092930785\n",
      "baboon.png 2 0.4012092823323409\n",
      "baboon.png 4 0.47112862136757\n",
      "baboon.png 8 0.543219358631545\n",
      "baboon.png 16 0.6377067885431087\n",
      "baboon.png 32 0.7498561883269171\n",
      "baboon.png 64 0.853296289974904\n",
      "baboon.png 128 0.9392166530756734\n",
      "monalisa.png 1 0.4834250886565025\n",
      "monalisa.png 2 0.5230506906590965\n",
      "monalisa.png 4 0.6153078716090589\n",
      "monalisa.png 8 0.7155282657790435\n",
      "monalisa.png 16 0.8046473239794298\n",
      "monalisa.png 32 0.9025640095413443\n",
      "monalisa.png 64 1.01414876152988\n",
      "monalisa.png 128 1.076385172823494\n",
      "watch.png 1 0.5258444311220244\n",
      "watch.png 2 0.5915370553949173\n",
      "watch.png 4 0.7015403107135334\n",
      "watch.png 8 0.8600227725003645\n",
      "watch.png 16 1.0170071985258267\n",
      "watch.png 32 1.2441400582422164\n",
      "watch.png 64 1.5026889520967346\n",
      "watch.png 128 1.6742295132193923\n",
      "peppers.png 1 0.3452983153207351\n",
      "peppers.png 2 0.3928983872808553\n",
      "peppers.png 4 0.45553657682613313\n",
      "peppers.png 8 0.524039903047279\n",
      "peppers.png 16 0.6017394231197033\n",
      "peppers.png 32 0.6847547069075912\n",
      "peppers.png 64 0.84888568206394\n",
      "peppers.png 128 0.938530195201498\n"
     ]
    }
   ],
   "source": [
    "cwd = os.getcwd()\n",
    "\n",
    "for key, img in images.items():\n",
    "    original_size = os.path.getsize(output_path + 'original_' + key)\n",
    "    for k in k_list:  \n",
    "        compressed_size = os.path.getsize(cwd + '/' + output_path + str(k) + '_' + key)\n",
    "        print(key, k, compressed_size/original_size)"
   ]
  },
  {
   "cell_type": "markdown",
   "metadata": {},
   "source": [
    "## RMSE"
   ]
  },
  {
   "cell_type": "code",
   "execution_count": 9,
   "metadata": {},
   "outputs": [
    {
     "name": "stdout",
     "output_type": "stream",
     "text": [
      "baboon.png 1 10.226570146876915\n",
      "baboon.png 2 10.000828899362112\n",
      "baboon.png 4 9.758676173580477\n",
      "baboon.png 8 9.524311279067698\n",
      "baboon.png 16 9.351483091071927\n",
      "baboon.png 32 9.190073911350972\n",
      "baboon.png 64 8.838968123197988\n",
      "baboon.png 128 7.9203299094695065\n",
      "monalisa.png 1 9.688691752972359\n",
      "monalisa.png 2 9.12878924561304\n",
      "monalisa.png 4 8.656841969360825\n",
      "monalisa.png 8 7.889491074671275\n",
      "monalisa.png 16 6.8112862815271\n",
      "monalisa.png 32 5.524896395763387\n",
      "monalisa.png 64 3.7365338457806136\n",
      "monalisa.png 128 1.4831255020674456\n",
      "watch.png 1 9.721954046516814\n",
      "watch.png 2 9.34749235455955\n",
      "watch.png 4 8.73050795320399\n",
      "watch.png 8 8.380149308449814\n",
      "watch.png 16 7.928081514771129\n",
      "watch.png 32 7.341575527888374\n",
      "watch.png 64 6.665827253265539\n",
      "watch.png 128 4.978212017653905\n",
      "peppers.png 1 10.303829671241736\n",
      "peppers.png 2 9.761478090875176\n",
      "peppers.png 4 9.551221525085497\n",
      "peppers.png 8 9.057287922895528\n",
      "peppers.png 16 8.228442917556972\n",
      "peppers.png 32 7.091875139422863\n",
      "peppers.png 64 5.626271083057484\n",
      "peppers.png 128 4.048901299788986\n"
     ]
    }
   ],
   "source": [
    "for key, img in images.items():\n",
    "    for k in k_list:\n",
    "        print(key, k, rmse(img, result[str(k) + '_' + key]))"
   ]
  }
 ],
 "metadata": {
  "kernelspec": {
   "display_name": "Python 3",
   "language": "python",
   "name": "python3"
  },
  "language_info": {
   "codemirror_mode": {
    "name": "ipython",
    "version": 3
   },
   "file_extension": ".py",
   "mimetype": "text/x-python",
   "name": "python",
   "nbconvert_exporter": "python",
   "pygments_lexer": "ipython3",
   "version": "3.7.4"
  }
 },
 "nbformat": 4,
 "nbformat_minor": 2
}
